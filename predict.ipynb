{
 "cells": [
  {
   "cell_type": "code",
   "execution_count": 2,
   "id": "0e8d8b75-a23d-4f01-85b8-3341887597f2",
   "metadata": {},
   "outputs": [
    {
     "output_type": "stream",
     "name": "stderr",
     "text": [
      "YOLOv5 🚀 02f7564 torch 1.8.1 CPU\n",
      "\n",
      "YOLOv5 🚀 02f7564 torch 1.8.1 CPU\n",
      "\n",
      "Fusing layers... \n",
      "Fusing layers... \n",
      "Model Summary: 224 layers, 7053910 parameters, 0 gradients, 16.3 GFLOPS\n",
      "Model Summary: 224 layers, 7053910 parameters, 0 gradients, 16.3 GFLOPS\n",
      "image 1/1 /media/tund/HDD/DL/LPR_yolov5/yolov5/data/images/0002_02554_b.jpg: 9\n",
      "\u001b[31m\n",
      " Number Plate :\u001b[0m 59BYGB955\n",
      "Done. (2.848s)\n"
     ]
    }
   ],
   "source": [
    "from main import LicensePlate\n",
    "\n",
    "t = LicensePlate()"
   ]
  }
 ],
 "metadata": {
  "kernelspec": {
   "display_name": "Python 3",
   "language": "python",
   "name": "python3"
  },
  "language_info": {
   "codemirror_mode": {
    "name": "ipython",
    "version": 3
   },
   "file_extension": ".py",
   "mimetype": "text/x-python",
   "name": "python",
   "nbconvert_exporter": "python",
   "pygments_lexer": "ipython3",
   "version": "3.7.10"
  }
 },
 "nbformat": 4,
 "nbformat_minor": 5
}